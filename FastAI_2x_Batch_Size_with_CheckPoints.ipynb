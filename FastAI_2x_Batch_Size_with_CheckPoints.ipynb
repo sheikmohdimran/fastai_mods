{
  "nbformat": 4,
  "nbformat_minor": 0,
  "metadata": {
    "kernelspec": {
      "name": "python3",
      "display_name": "Python 3"
    },
    "language_info": {
      "codemirror_mode": {
        "name": "ipython",
        "version": 3
      },
      "file_extension": ".py",
      "mimetype": "text/x-python",
      "name": "python",
      "nbconvert_exporter": "python",
      "pygments_lexer": "ipython3",
      "version": "3.7.0"
    },
    "colab": {
      "name": "FastAI_2x_Batch_Size_with_CheckPoints.ipynb",
      "version": "0.3.2",
      "provenance": [],
      "include_colab_link": true
    },
    "accelerator": "GPU"
  },
  "cells": [
    {
      "cell_type": "markdown",
      "metadata": {
        "id": "view-in-github",
        "colab_type": "text"
      },
      "source": [
        "<a href=\"https://colab.research.google.com/github/sheikmohdimran/fastai_mods/blob/master/FastAI_2x_Batch_Size_with_CheckPoints.ipynb\" target=\"_parent\"><img src=\"https://colab.research.google.com/assets/colab-badge.svg\" alt=\"Open In Colab\"/></a>"
      ]
    },
    {
      "cell_type": "markdown",
      "metadata": {
        "id": "DXTK3OYNgfV0",
        "colab_type": "text"
      },
      "source": [
        "# Double your batch size - Evidence"
      ]
    },
    {
      "cell_type": "code",
      "metadata": {
        "id": "vuRbK86vgfV6",
        "colab_type": "code",
        "colab": {}
      },
      "source": [
        "%reload_ext autoreload\n",
        "%autoreload 2\n",
        "%matplotlib inline"
      ],
      "execution_count": 0,
      "outputs": []
    },
    {
      "cell_type": "code",
      "metadata": {
        "id": "NNHcRDY9gfWE",
        "colab_type": "code",
        "colab": {}
      },
      "source": [
        "from fastai import *\n",
        "from fastai.vision import *\n",
        "\n",
        "path = untar_data(URLs.PETS)\n",
        "path_anno = path/'annotations'\n",
        "path_img = path/'images'\n",
        "fnames = get_image_files(path_img)\n",
        "np.random.seed(2)\n",
        "pat = r'/([^/]+)_\\d+.jpg$'"
      ],
      "execution_count": 0,
      "outputs": []
    },
    {
      "cell_type": "markdown",
      "metadata": {
        "id": "AwMkQzfGgfXR",
        "colab_type": "text"
      },
      "source": [
        "## Training: resnet101 - No Checkpoint"
      ]
    },
    {
      "cell_type": "code",
      "metadata": {
        "id": "mNb1F9u7gfWJ",
        "colab_type": "code",
        "colab": {}
      },
      "source": [
        "bs = 16*5\n",
        "# bs = 16*6   # This would not work, Restart Runtime and execute from \"Training: resnet101 - Checkpoint\""
      ],
      "execution_count": 0,
      "outputs": []
    },
    {
      "cell_type": "code",
      "metadata": {
        "id": "BMoAFkPEgfXS",
        "colab_type": "code",
        "colab": {}
      },
      "source": [
        "data = ImageDataBunch.from_name_re(path_img, fnames, pat, ds_tfms=get_transforms(), size=224, bs=bs).normalize(imagenet_stats)\n",
        "learn = cnn_learner(data, models.resnet101, metrics=error_rate)"
      ],
      "execution_count": 0,
      "outputs": []
    },
    {
      "cell_type": "code",
      "metadata": {
        "id": "A-VLintmgfXV",
        "colab_type": "code",
        "outputId": "025b43a3-d63d-4cdc-ad59-f181798392b4",
        "colab": {
          "base_uri": "https://localhost:8080/",
          "height": 97
        }
      },
      "source": [
        "from fastai.utils.mem import GPUMemTrace\n",
        "with GPUMemTrace():\n",
        " learn.fit_one_cycle(1)"
      ],
      "execution_count": 5,
      "outputs": [
        {
          "output_type": "display_data",
          "data": {
            "text/html": [
              "<table border=\"1\" class=\"dataframe\">\n",
              "  <thead>\n",
              "    <tr style=\"text-align: left;\">\n",
              "      <th>epoch</th>\n",
              "      <th>train_loss</th>\n",
              "      <th>valid_loss</th>\n",
              "      <th>error_rate</th>\n",
              "      <th>time</th>\n",
              "    </tr>\n",
              "  </thead>\n",
              "  <tbody>\n",
              "    <tr>\n",
              "      <td>0</td>\n",
              "      <td>0.655622</td>\n",
              "      <td>0.232322</td>\n",
              "      <td>0.058863</td>\n",
              "      <td>03:00</td>\n",
              "    </tr>\n",
              "  </tbody>\n",
              "</table>"
            ],
            "text/plain": [
              "<IPython.core.display.HTML object>"
            ]
          },
          "metadata": {
            "tags": []
          }
        },
        {
          "output_type": "stream",
          "text": [
            "△Used Peaked MB:    171 10,578 (exit)\n"
          ],
          "name": "stdout"
        }
      ]
    },
    {
      "cell_type": "markdown",
      "metadata": {
        "id": "5qlaXDGC7x83",
        "colab_type": "text"
      },
      "source": [
        "## Training: resnet101 - Checkpoint"
      ]
    },
    {
      "cell_type": "code",
      "metadata": {
        "id": "B1wRwdXOqun6",
        "colab_type": "code",
        "colab": {}
      },
      "source": [
        "########################################\n",
        "## Defaults\n",
        "########################################\n",
        "import torch\n",
        "import torch.nn as nn\n",
        "from torch.utils.checkpoint import checkpoint, checkpoint_sequential\n",
        "\n",
        "from fastai.callbacks.hooks import *\n",
        "\n",
        "def cnn_config(arch):\n",
        "    \"Get the metadata associated with `arch`.\"\n",
        "    torch.backends.cudnn.benchmark = True\n",
        "    return model_meta.get(arch, _default_meta)\n",
        "\n",
        "def _default_split(m:nn.Module): return (m[1],)\n",
        "def _resnet_split(m:nn.Module): return (m[0][6],m[1])\n",
        "\n",
        "_default_meta    = {'cut':None, 'split':_default_split}\n",
        "_resnet_meta     = {'cut':-2, 'split':_resnet_split }\n",
        "\n",
        "model_meta = {\n",
        "    models.resnet18 :{**_resnet_meta}, models.resnet34: {**_resnet_meta},\n",
        "    models.resnet50 :{**_resnet_meta}, models.resnet101:{**_resnet_meta},\n",
        "    models.resnet152:{**_resnet_meta}}"
      ],
      "execution_count": 0,
      "outputs": []
    },
    {
      "cell_type": "code",
      "metadata": {
        "id": "oNZn0qN3rcTc",
        "colab_type": "code",
        "colab": {}
      },
      "source": [
        "class CheckpointModule(nn.Module):\n",
        "    def __init__(self, module, num_segments=1):\n",
        "        super(CheckpointModule, self).__init__()\n",
        "        assert num_segments == 1 or isinstance(module, nn.Sequential)\n",
        "        self.module = module\n",
        "        self.num_segments = num_segments\n",
        "\n",
        "    def forward(self, *inputs):\n",
        "        if self.num_segments > 1:\n",
        "            return checkpoint_sequential(self.module, self.num_segments, *inputs)\n",
        "        else:\n",
        "            return checkpoint(self.module, *inputs)\n",
        "\n",
        "# To extract the sequential layers from resnet\n",
        "def layer_config(arch):\n",
        "    \"Get the layers associated with `arch`.\"\n",
        "    return model_layers.get(arch)\n",
        "\n",
        "model_layers = {\n",
        "    models.resnet18 :[2, 2, 2, 2], models.resnet34: [3, 4, 6, 3],\n",
        "    models.resnet50 :[3, 4, 6, 3], models.resnet101:[3, 4, 23, 3],\n",
        "    models.resnet152:[3, 8, 36, 3]}\n",
        "\n",
        "########################################\n",
        "## Send sequential layers in custom_body to Checkpoint\n",
        "########################################\n",
        "def create_body1(arch:Callable, pretrained:bool=True, cut:Optional[Union[int, Callable]]=None):\n",
        "    \"Cut off the body of a typically pretrained `model` at `cut` (int) or cut the model as specified by `cut(model)` (function).\"\n",
        "    model = arch(pretrained)\n",
        "    cut = ifnone(cut, cnn_config(arch)['cut'])\n",
        "    dummy_tensor = torch.ones(1, dtype=torch.float32, requires_grad=True)\n",
        "    if cut is None:\n",
        "        ll = list(enumerate(model.children()))\n",
        "        cut = next(i for i,o in reversed(ll) if has_pool_type(o))\n",
        "    if   isinstance(cut, int):\n",
        "    #Checkpoint - Changes Start\n",
        "      if (arch.__name__).find(\"resnet\")==0:                                            \n",
        "      #if (cnn_config(arch)['split'].__name__).find(\"resnet\")>=1:                                            \n",
        "        # Initial 4 Layers didn't have sequential and were not applicable with Checkpoint\n",
        "        n = 4 \n",
        "        layers = layer_config(arch)\n",
        "        out = nn.Sequential(*list(model.children())[:cut][:n],\n",
        "                            *[CheckpointModule(x, min(checkpoint_segments, layers[i])) for i, x in enumerate(list(model.children())[:cut][n:])])\n",
        "      else:\n",
        "        out = nn.Sequential(*list(model.children())[:cut])\n",
        "      return out\n",
        "    #Checkpoint - Changes End\n",
        "    elif isinstance(cut, Callable): return cut(model)\n",
        "    else:                           raise NamedError(\"cut must be either integer or a function\")"
      ],
      "execution_count": 0,
      "outputs": []
    },
    {
      "cell_type": "code",
      "metadata": {
        "id": "mq4GbyDKqyHk",
        "colab_type": "code",
        "colab": {}
      },
      "source": [
        "## From base - function renamed\n",
        "def create_head1(nf:int, nc:int, lin_ftrs:Optional[Collection[int]]=None, ps:Floats=0.5,\n",
        "                concat_pool:bool=True, bn_final:bool=False):\n",
        "    \"Model head that takes `nf` features, runs through `lin_ftrs`, and about `nc` classes.\"\n",
        "    lin_ftrs = [nf, 512, nc] if lin_ftrs is None else [nf] + lin_ftrs + [nc]\n",
        "    ps = listify(ps)\n",
        "    if len(ps) == 1: ps = [ps[0]/2] * (len(lin_ftrs)-2) + ps\n",
        "    actns = [nn.ReLU(inplace=True)] * (len(lin_ftrs)-2) + [None]\n",
        "    pool = AdaptiveConcatPool2d() if concat_pool else nn.AdaptiveAvgPool2d(1)\n",
        "    layers = [pool, Flatten()]\n",
        "    for ni,no,p,actn in zip(lin_ftrs[:-1], lin_ftrs[1:], ps, actns):\n",
        "        layers += bn_drop_lin(ni, no, True, p, actn)\n",
        "    if bn_final: layers.append(nn.BatchNorm1d(lin_ftrs[-1], momentum=0.01))\n",
        "    return nn.Sequential(*layers)\n",
        "\n",
        "## From base - function renamed\n",
        "def create_cnn1_model1(base_arch:Callable, nc:int, cut:Union[int,Callable]=None, pretrained:bool=True,\n",
        "                     lin_ftrs:Optional[Collection[int]]=None, ps:Floats=0.5, custom_head:Optional[nn.Module]=None,\n",
        "                     bn_final:bool=False, concat_pool:bool=True):\n",
        "    \"Create custom convnet architecture\"\n",
        "    body = create_body1(base_arch, pretrained, cut)\n",
        "    if custom_head is None:\n",
        "        nf = num_features_model(nn.Sequential(*body.children())) * (2 if concat_pool else 1)\n",
        "        head = create_head1(nf, nc, lin_ftrs, ps=ps, concat_pool=concat_pool, bn_final=bn_final)\n",
        "    else: head = custom_head\n",
        "    return nn.Sequential(body, head)\n",
        "\n",
        "## From base - function renamed\n",
        "def cnn_learner1(data:DataBunch, base_arch:Callable, cut:Union[int,Callable]=None, pretrained:bool=True,\n",
        "                lin_ftrs:Optional[Collection[int]]=None, ps:Floats=0.5, custom_head:Optional[nn.Module]=None,\n",
        "                split_on:Optional[SplitFuncOrIdxList]=None, bn_final:bool=False, init=nn.init.kaiming_normal_,\n",
        "                concat_pool:bool=True, **kwargs:Any)->Learner:\n",
        "    \"Build convnet style learner.\"\n",
        "    meta = cnn_config(base_arch)\n",
        "    model = create_cnn1_model1(base_arch, data.c, cut, pretrained, lin_ftrs, ps=ps, custom_head=custom_head,\n",
        "        bn_final=bn_final, concat_pool=concat_pool)\n",
        "    learn = Learner(data, model, **kwargs)\n",
        "    learn.split(split_on or meta['split'])\n",
        "    if pretrained: learn.freeze()\n",
        "    if init: apply_init(model[1], init)\n",
        "    return learn"
      ],
      "execution_count": 0,
      "outputs": []
    },
    {
      "cell_type": "code",
      "metadata": {
        "id": "_V8lRYN_2dNY",
        "colab_type": "code",
        "colab": {}
      },
      "source": [
        "bs = 16 * 5 * 2\n",
        "data = ImageDataBunch.from_name_re(path_img, fnames, pat, ds_tfms=get_transforms(), size=224, bs=bs).normalize(imagenet_stats)"
      ],
      "execution_count": 0,
      "outputs": []
    },
    {
      "cell_type": "code",
      "metadata": {
        "id": "_8lEEo8Os03S",
        "colab_type": "code",
        "colab": {}
      },
      "source": [
        "checkpoint_segments=4\n",
        "learn = cnn_learner1(data, models.resnet101, metrics=error_rate)"
      ],
      "execution_count": 0,
      "outputs": []
    },
    {
      "cell_type": "code",
      "metadata": {
        "id": "qj_9FYhZijsA",
        "colab_type": "code",
        "colab": {}
      },
      "source": [
        "#learn.model"
      ],
      "execution_count": 0,
      "outputs": []
    },
    {
      "cell_type": "code",
      "metadata": {
        "id": "ZmYaQno4s27E",
        "colab_type": "code",
        "outputId": "c380d5e0-4320-48be-8df6-19508a6454a0",
        "colab": {
          "base_uri": "https://localhost:8080/",
          "height": 131
        }
      },
      "source": [
        "from fastai.utils.mem import GPUMemTrace\n",
        "with GPUMemTrace():\n",
        "  learn.fit_one_cycle(1)"
      ],
      "execution_count": 12,
      "outputs": [
        {
          "output_type": "display_data",
          "data": {
            "text/html": [
              "<table border=\"1\" class=\"dataframe\">\n",
              "  <thead>\n",
              "    <tr style=\"text-align: left;\">\n",
              "      <th>epoch</th>\n",
              "      <th>train_loss</th>\n",
              "      <th>valid_loss</th>\n",
              "      <th>error_rate</th>\n",
              "      <th>time</th>\n",
              "    </tr>\n",
              "  </thead>\n",
              "  <tbody>\n",
              "    <tr>\n",
              "      <td>0</td>\n",
              "      <td>0.884842</td>\n",
              "      <td>0.230795</td>\n",
              "      <td>0.067659</td>\n",
              "      <td>03:36</td>\n",
              "    </tr>\n",
              "  </tbody>\n",
              "</table>"
            ],
            "text/plain": [
              "<IPython.core.display.HTML object>"
            ]
          },
          "metadata": {
            "tags": []
          }
        },
        {
          "output_type": "stream",
          "text": [
            "/usr/local/lib/python3.6/dist-packages/torch/utils/checkpoint.py:25: UserWarning: None of the inputs have requires_grad=True. Gradients will be None\n",
            "  warnings.warn(\"None of the inputs have requires_grad=True. Gradients will be None\")\n"
          ],
          "name": "stderr"
        },
        {
          "output_type": "stream",
          "text": [
            "△Used Peaked MB:      0 10,728 (exit)\n"
          ],
          "name": "stdout"
        }
      ]
    },
    {
      "cell_type": "markdown",
      "metadata": {
        "id": "Qrs8bnHh8G7Y",
        "colab_type": "text"
      },
      "source": [
        "**References:**\n",
        "* https://github.com/prigoyal/pytorch_memonger/blob/master/tutorial/Checkpointing_for_PyTorch_models.ipynb - Original source depiciting benefits and usage of checkpointing\n",
        "* https://github.com/eladhoffer/convNet.pytorch/blob/master/models/modules/checkpoint.py - Code for checkpoint module\n",
        "* https://github.com/eladhoffer/convNet.pytorch/blob/master/models/resnet.py - Variation of base Resnet Model to enable Checkpointing\n",
        "* https://github.com/pnvijay/fastaiv3/blob/master/ConvLearner_Lesson1_Fastaiv3.ipynb - Nice explanation on internals of FastAI CNN Learner"
      ]
    }
  ]
}